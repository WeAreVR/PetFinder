{
 "cells": [
  {
   "cell_type": "code",
   "execution_count": 1,
   "id": "4284de58",
   "metadata": {},
   "outputs": [
    {
     "name": "stdout",
     "output_type": "stream",
     "text": [
      "1 Physical GPUs, 1 Logical GPUs\n"
     ]
    }
   ],
   "source": [
    "import tensorflow as tf\n",
    "gpus = tf.config.list_physical_devices('GPU')\n",
    "if gpus:\n",
    "  try:\n",
    "    # Currently, memory growth needs to be the same across GPUs\n",
    "    for gpu in gpus:\n",
    "      tf.config.experimental.set_memory_growth(gpu, True)\n",
    "    logical_gpus = tf.config.list_logical_devices('GPU')\n",
    "    print(len(gpus), \"Physical GPUs,\", len(logical_gpus), \"Logical GPUs\")\n",
    "  except RuntimeError as e:\n",
    "    # Memory growth must be set before GPUs have been initialized\n",
    "    print(e)\n",
    "    \n",
    "def limit_mem():\n",
    "    K.get_session().close()\n",
    "    cfg = K.tf.compat.v1.ConfigProto()\n",
    "    cfg.gpu_options.allow_growth = True\n",
    "    K.set_session(K.tf.compat.v1.Session(config=cfg))"
   ]
  },
  {
   "cell_type": "code",
   "execution_count": 2,
   "id": "fd203408",
   "metadata": {},
   "outputs": [],
   "source": [
    "import os\n",
    "#os.environ[\"CUDA_VISIBLE_DEVICES\"] = \"-1\"\n",
    "tf.config.run_functions_eagerly(False)\n"
   ]
  },
  {
   "cell_type": "code",
   "execution_count": 3,
   "id": "91845223",
   "metadata": {},
   "outputs": [],
   "source": [
    "#import af libaries\n",
    "import tensorflow as tf\n",
    "import pandas as pd\n",
    "import numpy as np\n",
    "from matplotlib import pyplot as plt\n",
    "import tensorflow_addons as tfa\n",
    "from PIL import Image\n",
    "import imagehash\n",
    "import imageio\n",
    "import random\n",
    "from tqdm.notebook import tqdm\n",
    "from sklearn.model_selection import train_test_split\n",
    "from tensorflow.keras import layers\n",
    "\n"
   ]
  },
  {
   "cell_type": "code",
   "execution_count": 21,
   "id": "9201a67d",
   "metadata": {},
   "outputs": [
    {
     "name": "stdout",
     "output_type": "stream",
     "text": [
      "Amount of tranning's data: 9912\n"
     ]
    },
    {
     "ename": "ValueError",
     "evalue": "invalid literal for int() with base 10: 'Inf'",
     "output_type": "error",
     "traceback": [
      "\u001b[1;31m---------------------------------------------------------------------------\u001b[0m",
      "\u001b[1;31mValueError\u001b[0m                                Traceback (most recent call last)",
      "\u001b[1;32m~\\AppData\\Local\\Temp/ipykernel_16592/4215629717.py\u001b[0m in \u001b[0;36m<module>\u001b[1;34m\u001b[0m\n\u001b[0;32m      6\u001b[0m \u001b[0mimage_size\u001b[0m \u001b[1;33m=\u001b[0m \u001b[1;36m100\u001b[0m\u001b[1;33m\u001b[0m\u001b[1;33m\u001b[0m\u001b[0m\n\u001b[0;32m      7\u001b[0m \u001b[1;33m\u001b[0m\u001b[0m\n\u001b[1;32m----> 8\u001b[1;33m \u001b[0mtrain\u001b[0m\u001b[1;33m[\u001b[0m\u001b[1;34m'Rank'\u001b[0m\u001b[1;33m]\u001b[0m \u001b[1;33m=\u001b[0m \u001b[0mpd\u001b[0m\u001b[1;33m.\u001b[0m\u001b[0mcut\u001b[0m\u001b[1;33m(\u001b[0m\u001b[0mtrain\u001b[0m\u001b[1;33m[\u001b[0m\u001b[1;34m'Pawpularity'\u001b[0m\u001b[1;33m]\u001b[0m\u001b[1;33m,\u001b[0m \u001b[0mbins\u001b[0m\u001b[1;33m=\u001b[0m\u001b[1;33m[\u001b[0m\u001b[1;36m0\u001b[0m\u001b[1;33m,\u001b[0m\u001b[1;36m21\u001b[0m\u001b[1;33m,\u001b[0m\u001b[1;36m41\u001b[0m\u001b[1;33m,\u001b[0m\u001b[1;36m61\u001b[0m\u001b[1;33m,\u001b[0m\u001b[1;36m81\u001b[0m\u001b[1;33m,\u001b[0m \u001b[0mint\u001b[0m\u001b[1;33m(\u001b[0m\u001b[1;34m'Inf'\u001b[0m\u001b[1;33m)\u001b[0m\u001b[1;33m]\u001b[0m\u001b[1;33m,\u001b[0m \u001b[0mlabels\u001b[0m\u001b[1;33m=\u001b[0m\u001b[1;33m[\u001b[0m\u001b[1;36m0\u001b[0m\u001b[1;33m,\u001b[0m\u001b[1;36m1\u001b[0m\u001b[1;33m,\u001b[0m\u001b[1;36m2\u001b[0m\u001b[1;33m,\u001b[0m\u001b[1;36m3\u001b[0m\u001b[1;33m,\u001b[0m\u001b[1;36m4\u001b[0m\u001b[1;33m]\u001b[0m\u001b[1;33m)\u001b[0m\u001b[1;33m\u001b[0m\u001b[1;33m\u001b[0m\u001b[0m\n\u001b[0m",
      "\u001b[1;31mValueError\u001b[0m: invalid literal for int() with base 10: 'Inf'"
     ]
    }
   ],
   "source": [
    "#test is not working i need to have a look at the download again\n",
    "train = pd.read_csv('train.csv')\n",
    "#test = pd.read_csv('test.csv')\n",
    "print(\"Amount of tranning's data: \" + str(len(train)))\n",
    "#print(\"Amount of test data: \" + str(len(test)))\n",
    "image_size = 100\n",
    "\n",
    "train['Rank'] = pd.cut(train['Pawpularity'], bins=[0,21,41,61,81, float('Inf')], labels=[0,1,2,3,4])\n"
   ]
  },
  {
   "cell_type": "code",
   "execution_count": 5,
   "id": "8b833ec7",
   "metadata": {
    "scrolled": true
   },
   "outputs": [
    {
     "data": {
      "text/html": [
       "<div>\n",
       "<style scoped>\n",
       "    .dataframe tbody tr th:only-of-type {\n",
       "        vertical-align: middle;\n",
       "    }\n",
       "\n",
       "    .dataframe tbody tr th {\n",
       "        vertical-align: top;\n",
       "    }\n",
       "\n",
       "    .dataframe thead th {\n",
       "        text-align: right;\n",
       "    }\n",
       "</style>\n",
       "<table border=\"1\" class=\"dataframe\">\n",
       "  <thead>\n",
       "    <tr style=\"text-align: right;\">\n",
       "      <th></th>\n",
       "      <th>Id</th>\n",
       "      <th>Subject Focus</th>\n",
       "      <th>Eyes</th>\n",
       "      <th>Face</th>\n",
       "      <th>Near</th>\n",
       "      <th>Action</th>\n",
       "      <th>Accessory</th>\n",
       "      <th>Group</th>\n",
       "      <th>Collage</th>\n",
       "      <th>Human</th>\n",
       "      <th>Occlusion</th>\n",
       "      <th>Info</th>\n",
       "      <th>Blur</th>\n",
       "      <th>Pawpularity</th>\n",
       "      <th>Rank</th>\n",
       "      <th>file_path</th>\n",
       "    </tr>\n",
       "  </thead>\n",
       "  <tbody>\n",
       "    <tr>\n",
       "      <th>0</th>\n",
       "      <td>0007de18844b0dbbb5e1f607da0606e0</td>\n",
       "      <td>0</td>\n",
       "      <td>1</td>\n",
       "      <td>1</td>\n",
       "      <td>1</td>\n",
       "      <td>0</td>\n",
       "      <td>0</td>\n",
       "      <td>1</td>\n",
       "      <td>0</td>\n",
       "      <td>0</td>\n",
       "      <td>0</td>\n",
       "      <td>0</td>\n",
       "      <td>0</td>\n",
       "      <td>63</td>\n",
       "      <td>3</td>\n",
       "      <td>C:\\Users\\tobia\\Documents\\GitHub\\PetFinder\\trai...</td>\n",
       "    </tr>\n",
       "    <tr>\n",
       "      <th>1</th>\n",
       "      <td>0009c66b9439883ba2750fb825e1d7db</td>\n",
       "      <td>0</td>\n",
       "      <td>1</td>\n",
       "      <td>1</td>\n",
       "      <td>0</td>\n",
       "      <td>0</td>\n",
       "      <td>0</td>\n",
       "      <td>0</td>\n",
       "      <td>0</td>\n",
       "      <td>0</td>\n",
       "      <td>0</td>\n",
       "      <td>0</td>\n",
       "      <td>0</td>\n",
       "      <td>42</td>\n",
       "      <td>2</td>\n",
       "      <td>C:\\Users\\tobia\\Documents\\GitHub\\PetFinder\\trai...</td>\n",
       "    </tr>\n",
       "    <tr>\n",
       "      <th>2</th>\n",
       "      <td>0013fd999caf9a3efe1352ca1b0d937e</td>\n",
       "      <td>0</td>\n",
       "      <td>1</td>\n",
       "      <td>1</td>\n",
       "      <td>1</td>\n",
       "      <td>0</td>\n",
       "      <td>0</td>\n",
       "      <td>0</td>\n",
       "      <td>0</td>\n",
       "      <td>1</td>\n",
       "      <td>1</td>\n",
       "      <td>0</td>\n",
       "      <td>0</td>\n",
       "      <td>28</td>\n",
       "      <td>1</td>\n",
       "      <td>C:\\Users\\tobia\\Documents\\GitHub\\PetFinder\\trai...</td>\n",
       "    </tr>\n",
       "    <tr>\n",
       "      <th>3</th>\n",
       "      <td>0018df346ac9c1d8413cfcc888ca8246</td>\n",
       "      <td>0</td>\n",
       "      <td>1</td>\n",
       "      <td>1</td>\n",
       "      <td>1</td>\n",
       "      <td>0</td>\n",
       "      <td>0</td>\n",
       "      <td>0</td>\n",
       "      <td>0</td>\n",
       "      <td>0</td>\n",
       "      <td>0</td>\n",
       "      <td>0</td>\n",
       "      <td>0</td>\n",
       "      <td>15</td>\n",
       "      <td>0</td>\n",
       "      <td>C:\\Users\\tobia\\Documents\\GitHub\\PetFinder\\trai...</td>\n",
       "    </tr>\n",
       "    <tr>\n",
       "      <th>4</th>\n",
       "      <td>001dc955e10590d3ca4673f034feeef2</td>\n",
       "      <td>0</td>\n",
       "      <td>0</td>\n",
       "      <td>0</td>\n",
       "      <td>1</td>\n",
       "      <td>0</td>\n",
       "      <td>0</td>\n",
       "      <td>1</td>\n",
       "      <td>0</td>\n",
       "      <td>0</td>\n",
       "      <td>0</td>\n",
       "      <td>0</td>\n",
       "      <td>0</td>\n",
       "      <td>72</td>\n",
       "      <td>3</td>\n",
       "      <td>C:\\Users\\tobia\\Documents\\GitHub\\PetFinder\\trai...</td>\n",
       "    </tr>\n",
       "  </tbody>\n",
       "</table>\n",
       "</div>"
      ],
      "text/plain": [
       "                                 Id  Subject Focus  Eyes  Face  Near  Action  \\\n",
       "0  0007de18844b0dbbb5e1f607da0606e0              0     1     1     1       0   \n",
       "1  0009c66b9439883ba2750fb825e1d7db              0     1     1     0       0   \n",
       "2  0013fd999caf9a3efe1352ca1b0d937e              0     1     1     1       0   \n",
       "3  0018df346ac9c1d8413cfcc888ca8246              0     1     1     1       0   \n",
       "4  001dc955e10590d3ca4673f034feeef2              0     0     0     1       0   \n",
       "\n",
       "   Accessory  Group  Collage  Human  Occlusion  Info  Blur  Pawpularity Rank  \\\n",
       "0          0      1        0      0          0     0     0           63    3   \n",
       "1          0      0        0      0          0     0     0           42    2   \n",
       "2          0      0        0      1          1     0     0           28    1   \n",
       "3          0      0        0      0          0     0     0           15    0   \n",
       "4          0      1        0      0          0     0     0           72    3   \n",
       "\n",
       "                                           file_path  \n",
       "0  C:\\Users\\tobia\\Documents\\GitHub\\PetFinder\\trai...  \n",
       "1  C:\\Users\\tobia\\Documents\\GitHub\\PetFinder\\trai...  \n",
       "2  C:\\Users\\tobia\\Documents\\GitHub\\PetFinder\\trai...  \n",
       "3  C:\\Users\\tobia\\Documents\\GitHub\\PetFinder\\trai...  \n",
       "4  C:\\Users\\tobia\\Documents\\GitHub\\PetFinder\\trai...  "
      ]
     },
     "metadata": {},
     "output_type": "display_data"
    }
   ],
   "source": [
    "#Loading images\n",
    "def get_train_file_path(image_id):\n",
    "    return r\"C:\\Users\\tobia\\Documents\\GitHub\\PetFinder\\train\\{}.jpg\".format(image_id)\n",
    "\n",
    "def get_test_file_path(image_id):\n",
    "    return r\"C:\\Users\\tobia\\Documents\\GitHub\\PetFinder\\test\\{}.jpg\".format(image_id)\n",
    "\n",
    "train['file_path'] = train['Id'].apply(get_train_file_path)\n",
    "#test['file_path'] = test['Id'].apply(get_test_file_path)\n",
    "\n",
    "\n",
    "# Shows the first 5, change the paramter for more\n",
    "display(train.head())\n"
   ]
  },
  {
   "cell_type": "code",
   "execution_count": null,
   "id": "dce312d8",
   "metadata": {},
   "outputs": [],
   "source": [
    "#Visualizing the spread??\n",
    "train.hist(figsize=(15,15))\n",
    "plt.tight_layout()\n",
    "plt.show()"
   ]
  },
  {
   "cell_type": "code",
   "execution_count": null,
   "id": "fdc03299",
   "metadata": {},
   "outputs": [],
   "source": [
    "train['Rank'].hist(figsize=(5,5))\n",
    "counts = train['Rank'].value_counts()\n",
    "print(counts)"
   ]
  },
  {
   "cell_type": "code",
   "execution_count": null,
   "id": "da0e1ee5",
   "metadata": {},
   "outputs": [],
   "source": [
    "##### Mean of Pawpularity remove [] if you want the see mean on everything\n",
    "print(\"Mean value of train \"+ str(train['Pawpularity'].mean()))\n",
    "train.info()"
   ]
  },
  {
   "cell_type": "markdown",
   "id": "907c0b1b",
   "metadata": {},
   "source": []
  },
  {
   "cell_type": "code",
   "execution_count": null,
   "id": "e4065438",
   "metadata": {
    "scrolled": true
   },
   "outputs": [],
   "source": [
    "#Kinda slow might be a faster way to do it.\n",
    "#It gets height and width of each image and then calculate the aspect ratio\n",
    "widths = []\n",
    "heights = []\n",
    "ratios = []\n",
    "for file_path in tqdm(train['file_path']):\n",
    "    image = imageio.imread(file_path)\n",
    "    h, w, _ = image.shape\n",
    "    heights.append(h)\n",
    "    widths.append(w)\n",
    "    ratios.append(w / h)"
   ]
  },
  {
   "cell_type": "code",
   "execution_count": null,
   "id": "d14e355a",
   "metadata": {},
   "outputs": [],
   "source": [
    "#First we plot it to see the values\n",
    "plt.figure(figsize=(15,8))\n",
    "plt.title(f'Height and Width', size=24)\n",
    "plt.hist(heights, bins=32, label='Heights')\n",
    "plt.hist(widths, bins=32, label='Widths')\n",
    "plt.legend(prop={'size': 16})\n",
    "plt.show()"
   ]
  },
  {
   "cell_type": "code",
   "execution_count": null,
   "id": "518c266f",
   "metadata": {},
   "outputs": [],
   "source": [
    "#https://www.kaggle.com/markwijkhuizen/petfinder-eda-yolov5-obj-detection-tfrecords#Image-EDA\n",
    "display(pd.Series(ratios).describe())\n",
    "plt.figure(figsize=(15,8))\n",
    "plt.title(f'Ratios', size=24)\n",
    "plt.hist(ratios, bins=15, label='Ratios')\n",
    "plt.legend(prop={'size': 15})\n",
    "plt.show()"
   ]
  },
  {
   "cell_type": "code",
   "execution_count": null,
   "id": "78663178",
   "metadata": {},
   "outputs": [],
   "source": [
    "#Hard to see the coalition on the ???bar??? graph so we create a scatter point graph\n",
    "fig = plt.figure(figsize=(8, 8))\n",
    "ax = fig.add_subplot(111)\n",
    "points = ax.scatter(widths, heights, color='blue', alpha=0.5, s=ratios, picker=True)\n",
    "ax.set_title(\"Image Resolution\")\n",
    "ax.set_xlabel(\"Width\", size=14)\n",
    "ax.set_ylabel(\"Height\", size=14)"
   ]
  },
  {
   "cell_type": "code",
   "execution_count": null,
   "id": "df82fdee",
   "metadata": {},
   "outputs": [],
   "source": [
    "#Shows 5x5 images and their title is their paw score\n",
    "plt.figure(figsize=(20, 20))\n",
    "for i in range(5 * 5):\n",
    "    plt.subplot(5, 5, i+1)\n",
    "    image = plt.imread(train.iloc[i, -1])\n",
    "    #image = plt.cvtColor(image, cv2.COLOR_BGR2RGB)\n",
    "    Pawpularity = train.iloc[i, -3]\n",
    "    plt.imshow(image)\n",
    "    plt.title(f\"Pawpularity Score: {Pawpularity}\")\n",
    "plt.show()"
   ]
  },
  {
   "cell_type": "code",
   "execution_count": null,
   "id": "dbee9707",
   "metadata": {},
   "outputs": [],
   "source": [
    "#Images with the lowest value\n",
    "sorted_lowest = (train.sort_values('Pawpularity'))\n",
    "plt.figure(figsize=(20, 20))\n",
    "for i in range(5 * 5):\n",
    "    plt.subplot(5, 5, i+1)\n",
    "    image = plt.imread(sorted_lowest.iloc[i, -1])\n",
    "    Pawpularity = sorted_lowest.iloc[i, -3]\n",
    "    plt.imshow(image)\n",
    "    plt.title(f\"Pawpularity Score: {Pawpularity}\")\n",
    "plt.show()"
   ]
  },
  {
   "cell_type": "code",
   "execution_count": null,
   "id": "5243c78a",
   "metadata": {},
   "outputs": [],
   "source": [
    "#Images with the highest value\n",
    "sorted_highest = (train.sort_values('Pawpularity',ascending=False))\n",
    "plt.figure(figsize=(20, 20))\n",
    "for i in range(5 * 5):\n",
    "    plt.subplot(5, 5, i+1)\n",
    "    image = plt.imread(sorted_highest.iloc[i, -1])\n",
    "    Pawpularity = sorted_highest.iloc[i, -3]\n",
    "    plt.imshow(image)\n",
    "    plt.title(f\"Pawpularity Score: {Pawpularity}\")\n",
    "plt.show()"
   ]
  },
  {
   "cell_type": "code",
   "execution_count": null,
   "id": "17017d14",
   "metadata": {},
   "outputs": [],
   "source": [
    "#ligner der er duplicates som skal fjernes \n",
    "#https://www.kaggle.com/c/petfinder-pawpularity-score/discussion/278497 kode til at fjerne dem findes her\n",
    "tqdm.pandas()\n",
    "def get_hash(file_path):\n",
    "    img = Image.open(file_path)\n",
    "    img_hash = imagehash.phash(img)\n",
    "    \n",
    "    return img_hash.hash.reshape(-1).astype(np.uint8)\n",
    "    \n",
    "train['phash'] = train['file_path'].progress_apply(get_hash)"
   ]
  },
  {
   "cell_type": "code",
   "execution_count": null,
   "id": "5486f14d",
   "metadata": {},
   "outputs": [],
   "source": [
    "def find_similar_images(threshold=0.90):\n",
    "    # Number of Duplicate Images Found\n",
    "    duplicate_counter = 1\n",
    "    # Indices of Duplicate Images\n",
    "    duplicate_idxs = set()\n",
    "    # For each image in the train dataset\n",
    "    for idx, phash in enumerate(tqdm(train['phash'])):\n",
    "        # Compute the similarity to all other images\n",
    "        for idx_other, phash_other in enumerate(train['phash']):\n",
    "            # Similarity score is imply the percentage of equal bits\n",
    "            similarity = (phash ==phash_other).mean()\n",
    "            # Prevent self comparison, threshold similarity and ignore repetetive duplicate detection\n",
    "            if idx != idx_other and similarity > threshold and not(duplicate_idxs.intersection([idx, idx_other])):\n",
    "                # Update Duplicate Indices\n",
    "                duplicate_idxs.update([idx, idx_other])\n",
    "                # Get DataFrame rows\n",
    "                row = train.loc[idx]\n",
    "                row_other = train.loc[idx_other]\n",
    "                # Plot Duplicate Images\n",
    "                fig, ax = plt.subplots(nrows=1, ncols=2, figsize=(8,5))\n",
    "                ax[0].imshow(imageio.imread(row['file_path']))\n",
    "                ax[0].set_title(f'Idx: {idx}, Pawpularity: {row[\"Pawpularity\"]}')\n",
    "                ax[1].imshow(imageio.imread(row_other['file_path']))\n",
    "                ax[1].set_title(f'Idx: {idx_other}, Pawpularity: {row_other[\"Pawpularity\"]}')\n",
    "                plt.suptitle(f'{duplicate_counter} | PHASH Similarity: {similarity:.3f}')\n",
    "                plt.show()\n",
    "                # Increase Duplicate Counter\n",
    "                duplicate_counter += 1\n",
    "                \n",
    "    # Return Indices of Duplicates\n",
    "    return duplicate_idxs\n",
    "    \n",
    "duplicate_idxs = find_similar_images()\n",
    "#The same images don't have the same paw score. The majority's paw score's diffrence is around 10.\n",
    "#But some got over double the score'"
   ]
  },
  {
   "cell_type": "code",
   "execution_count": null,
   "id": "bd705326",
   "metadata": {},
   "outputs": [],
   "source": [
    "print(f'Found {len(duplicate_idxs)} Duplicate Images')\n",
    "# Removing Duplicate Images, \n",
    "#Code taken from https://www.kaggle.com/markwijkhuizen/petfinder-eda-yolov5-obj-detection-tfrecords#Image-EDA\n",
    "#IMPORTANT(I think so atleast)! If this code is run twice it will drop both images instead of just one of the duplicates\n",
    "#Hhich image is correct one? They got diffrent scores\n",
    "train = train.drop(duplicate_idxs).reset_index(drop=True)\n",
    "print(\"Amount of tranning's data: \" + str(len(train)))"
   ]
  },
  {
   "cell_type": "code",
   "execution_count": 6,
   "id": "962c3b44",
   "metadata": {},
   "outputs": [],
   "source": [
    "#We need some more preproccsing and data normalization\n",
    "def dataNormalization(image):\n",
    "    image = Image.open(image)\n",
    "    #tf.image.convert_image_dtype(image, tf.float32)\n",
    "    #image = tf.reshape(image, [352, 352, 3])\n",
    "    image = tf.image.resize(image, (image_size, image_size))\n",
    "    image = tf.cast(image, tf.float32) / 255.0\n",
    "    return image"
   ]
  },
  {
   "cell_type": "code",
   "execution_count": 7,
   "id": "dcf4e163",
   "metadata": {},
   "outputs": [
    {
     "name": "stdout",
     "output_type": "stream",
     "text": [
      "Amount of tranning's data: 7929\n",
      "Amount of test data: 1983\n"
     ]
    }
   ],
   "source": [
    "#train['file_path'] = train['file_path'].apply(dataNormalization)\n",
    "#image = plt.imread(train.loc[0,'file_path'])\n",
    "#ds = tf.data.Dataset.from_tensor_slices(dict(train))\n",
    "AUTOTUNE = tf.data.experimental.AUTOTUNE\n",
    "\n",
    "#Split in test and train\n",
    "train, test = train_test_split(train, test_size=0.2)\n",
    "print(\"Amount of tranning's data: \" + str(len(train)))\n",
    "print(\"Amount of test data: \" + str(len(test)))\n",
    "\n",
    "train_dataset = train['file_path'].map(dataNormalization)\n",
    "test_dataset = test['file_path'].map(dataNormalization)\n"
   ]
  },
  {
   "cell_type": "code",
   "execution_count": 8,
   "id": "1f90db8a",
   "metadata": {},
   "outputs": [],
   "source": [
    "#checks if the values are normalized\n",
    "#print(train_dataset[0])\n",
    "#we need proper names here\n",
    "#train_pred = train.loc[:,'Pawpularity']\n",
    "#test_pred = test.loc[:,'Pawpularity']\n",
    "\n",
    "\n",
    "train_pred = train.loc[:,'Rank']\n",
    "test_pred = test.loc[:,'Rank']\n"
   ]
  },
  {
   "cell_type": "code",
   "execution_count": 23,
   "id": "7ccea9d7",
   "metadata": {},
   "outputs": [
    {
     "name": "stdout",
     "output_type": "stream",
     "text": [
      "<class 'numpy.ndarray'>\n"
     ]
    }
   ],
   "source": [
    "print(train_pred)\n",
    "#type(pred)\n",
    "#result = pd.merge(train_dataset, pred, left_on=None)\n",
    "#train_dataset = pd.merge(train_dataset, train_pred, left_index=True, right_index=True)\n",
    "#test_dataset = pd.merge(test_dataset, test_pred, left_index=True, right_index=True)"
   ]
  },
  {
   "cell_type": "code",
   "execution_count": null,
   "id": "90eee657",
   "metadata": {},
   "outputs": [],
   "source": [
    "print(train_dataset)"
   ]
  },
  {
   "cell_type": "code",
   "execution_count": null,
   "id": "0ce453a9",
   "metadata": {},
   "outputs": [],
   "source": [
    "display(train_dataset.head())\n",
    "\n",
    "#print(train_dataset['file_path'])\n",
    "#display(result.head())"
   ]
  },
  {
   "cell_type": "code",
   "execution_count": null,
   "id": "2beb4559",
   "metadata": {},
   "outputs": [],
   "source": [
    "plt.figure(figsize=(20, 20))\n",
    "for i in range(5 * 5):\n",
    "    plt.subplot(5, 5, i+1)\n",
    "    plt.title('Original image')\n",
    "    image =  train_dataset.iloc[i]\n",
    "    plt.imshow(image)\n",
    "plt.show(block=False)"
   ]
  },
  {
   "cell_type": "code",
   "execution_count": 9,
   "id": "e33b2dc2",
   "metadata": {},
   "outputs": [],
   "source": [
    "def augment(augmented):\n",
    "    # We need to test with the diffrent type of augment to see if they hurt the acc. \n",
    "    # We should also take some of the fuctions we used in CNN\n",
    "    augmented = tf.image.random_brightness(augmented, 0.05)\n",
    "    augmented = tf.image.random_flip_left_right(augmented)\n",
    "    augmented = tf.image.random_saturation(augmented, 0.95, 1)\n",
    "    augmented = tf.image.random_contrast(augmented, 0.95, 1)\n",
    "    augmented = tf.image.random_hue(augmented, 0.05)\n",
    "    augmented = shear(augmented)\n",
    "    return augmented\n",
    "\n",
    "def visualize(original, augmented):\n",
    "    fig = plt.figure()\n",
    "    plt.subplot(1,2,1)\n",
    "    plt.title('Original image')\n",
    "    plt.imshow(original)\n",
    "\n",
    "    plt.subplot(1,2,2)\n",
    "    plt.title('Augmented image')\n",
    "    plt.imshow(augmented)\n",
    "    \n",
    "def shear(image):\n",
    "    #shear\n",
    "    #de her værdier skal nok ændres i\n",
    "    random_number_shear = random.uniform(-0.2,0.2)\n",
    "    shear = random_number_shear\n",
    "    shear_rotate = shear * -20\n",
    "    image = tfa.image.transform(image, [1.0, shear, shear_rotate, 0.0, 1.0, 0.0, 0.0, 0.0])\n",
    "    return image\n",
    "\n",
    "def crop(image):\n",
    "    # Add 6 pixels of padding\n",
    "    image = tf.image.resize_with_crop_or_pad(image, img_height + 6, img_width + 6) \n",
    "    # Random crop back to the original size\n",
    "    image = tf.image.random_crop(image, size=[img_height, img_width, 1])\n",
    "    return image"
   ]
  },
  {
   "cell_type": "code",
   "execution_count": null,
   "id": "17a805d4",
   "metadata": {},
   "outputs": [],
   "source": [
    "print(train.head())"
   ]
  },
  {
   "cell_type": "code",
   "execution_count": null,
   "id": "21429163",
   "metadata": {},
   "outputs": [],
   "source": [
    "#Side by side comparrison with the new ratio\n",
    "for i in range(4 * 5):\n",
    "    result_image = train_dataset.iloc[i]\n",
    "    train_image = plt.imread(train.iloc[i,-2])\n",
    "    visualize(train_image,result_image)"
   ]
  },
  {
   "cell_type": "markdown",
   "id": "0df6d87c",
   "metadata": {},
   "source": []
  },
  {
   "cell_type": "code",
   "execution_count": null,
   "id": "a5e8764e",
   "metadata": {},
   "outputs": [],
   "source": [
    "for i in range(3):\n",
    "    image = train_dataset.iloc[i]\n",
    "    changed_image = augment(image)\n",
    "    visualize(image,changed_image)"
   ]
  },
  {
   "cell_type": "code",
   "execution_count": null,
   "id": "46c7efba",
   "metadata": {},
   "outputs": [],
   "source": [
    "#Simple CNN\n",
    "model = tf.keras.models.Sequential([\n",
    "layers.Conv2D(filters=32, kernel_size=3, activation='relu'),\n",
    "layers.MaxPool2D(pool_size=2, strides=2),\n",
    "layers.Conv2D(filters=32, kernel_size=3, activation='relu'),\n",
    "layers.MaxPool2D(pool_size=2, strides=2),\n",
    "layers.Flatten(),\n",
    "layers.Dense(units=128, activation='relu'),\n",
    "layers.Dense(units=1)\n",
    "])"
   ]
  },
  {
   "cell_type": "code",
   "execution_count": 10,
   "id": "124b18cd",
   "metadata": {},
   "outputs": [],
   "source": [
    "#CNN\n",
    "model = tf.keras.models.Sequential([\n",
    "layers.Conv2D(filters=32, kernel_size=3, activation='relu'),\n",
    "layers.Conv2D(filters=64, kernel_size=3, activation='relu'),\n",
    "layers.MaxPool2D(pool_size=2, strides=2),\n",
    "layers.Dropout(0.25),\n",
    "layers.Conv2D(filters=128, kernel_size=3, activation='relu'),\n",
    "layers.MaxPool2D(pool_size=2, strides=2),\n",
    "layers.Conv2D(filters=128, kernel_size=3, activation='relu'),\n",
    "layers.MaxPool2D(pool_size=2, strides=2),\n",
    "layers.Dropout(0.25),\n",
    "layers.Flatten(),\n",
    "layers.Dense(units=1024, activation='relu'),\n",
    "layers.Dropout(0.50),\n",
    "layers.Dense(units=5, activation='softmax')\n",
    "])\n",
    "\n"
   ]
  },
  {
   "cell_type": "code",
   "execution_count": 11,
   "id": "a582c9f4",
   "metadata": {},
   "outputs": [],
   "source": [
    "model.compile(loss='sparse_categorical_crossentropy', \n",
    "              optimizer = 'adam', \n",
    "              metrics=['accuracy'])"
   ]
  },
  {
   "cell_type": "code",
   "execution_count": 12,
   "id": "ad8c5794",
   "metadata": {},
   "outputs": [],
   "source": [
    "#print(train_dataset.shape)\n",
    "#print(test_dataset.shape)\n",
    "#print(train_dataset)\n",
    "def labelNormalize(value):\n",
    "    return value/100;\n",
    "#train_pred = train_pred.map(labelNormalize)\n",
    "#test_pred = test_pred.map(labelNormalize)\n",
    "\n",
    "#print(train_dataset)\n",
    "#test_dataset.dtypes\n",
    "\n",
    "X = np.array(train_dataset.tolist())\n",
    "Y = np.array(test_dataset.tolist())\n",
    "\n",
    "#clf.fit(test_dataset[0].tolist(), labels)\n",
    "#np.array(test_dataset).astype(\"float32\")\n"
   ]
  },
  {
   "cell_type": "code",
   "execution_count": 13,
   "id": "0ef2da9b",
   "metadata": {},
   "outputs": [],
   "source": [
    "train_pred = np.array(train_pred.tolist())\n",
    "test_pred = np.array(test_pred.tolist())\n"
   ]
  },
  {
   "cell_type": "code",
   "execution_count": null,
   "id": "130e6684",
   "metadata": {},
   "outputs": [],
   "source": []
  },
  {
   "cell_type": "code",
   "execution_count": 14,
   "id": "2ef6aeb2",
   "metadata": {},
   "outputs": [],
   "source": [
    "temp=pd.DataFrame()\n",
    "\n",
    "def augmentAfterEpoch():\n",
    "    temp = train_dataset.map(augment)\n",
    "    newX = np.array(temp.tolist())\n",
    "    #navn.append(pd.DataFrame(temp).T)\n",
    "    #navn.extend([temp])\n",
    "    return newX\n",
    "#print(temp)\n",
    "    #a = torch.tensor(temp)\n",
    "    #navn2 = torch.cat((a,navn2))\n",
    "\n",
    "#navn = pd.merge(temp, train_pred, left_index=True, right_index=True)\n",
    "#print(temp)"
   ]
  },
  {
   "cell_type": "code",
   "execution_count": null,
   "id": "b987e930",
   "metadata": {},
   "outputs": [],
   "source": [
    "print(type(temp))"
   ]
  },
  {
   "cell_type": "code",
   "execution_count": null,
   "id": "4e07ab76",
   "metadata": {},
   "outputs": [],
   "source": [
    "#print(type(train_pred))\n",
    "#print(train_dataset)\n",
    "#print(X)\n",
    "#print(X)\n"
   ]
  },
  {
   "cell_type": "code",
   "execution_count": 15,
   "id": "92f27c5d",
   "metadata": {},
   "outputs": [],
   "source": [
    "callbacks = [\n",
    "    tf.keras.callbacks.ModelCheckpoint('petfinder.keras', save_best_only=True)\n",
    "]"
   ]
  },
  {
   "cell_type": "code",
   "execution_count": 16,
   "id": "eafe5af5",
   "metadata": {},
   "outputs": [
    {
     "name": "stdout",
     "output_type": "stream",
     "text": [
      "Epoch 1/30\n",
      "496/496 [==============================] - 15s 24ms/step - loss: 1.3209 - accuracy: 0.5138 - val_loss: 1.3223 - val_accuracy: 0.5169\n",
      "Epoch 2/30\n",
      "496/496 [==============================] - 11s 21ms/step - loss: 1.3073 - accuracy: 0.5152 - val_loss: 1.3259 - val_accuracy: 0.5169\n",
      "Epoch 3/30\n",
      "496/496 [==============================] - 11s 22ms/step - loss: 1.3132 - accuracy: 0.5152 - val_loss: 1.3198 - val_accuracy: 0.5169\n",
      "Epoch 4/30\n",
      "496/496 [==============================] - 11s 22ms/step - loss: 1.3067 - accuracy: 0.5152 - val_loss: 1.3206 - val_accuracy: 0.5169\n",
      "Epoch 5/30\n",
      "496/496 [==============================] - 13s 26ms/step - loss: 1.3076 - accuracy: 0.5152 - val_loss: 1.3189 - val_accuracy: 0.5169\n",
      "Epoch 6/30\n",
      "496/496 [==============================] - 13s 27ms/step - loss: 1.3045 - accuracy: 0.5152 - val_loss: 1.3178 - val_accuracy: 0.5169\n",
      "Epoch 7/30\n",
      "496/496 [==============================] - 12s 23ms/step - loss: 1.3032 - accuracy: 0.5152 - val_loss: 1.3175 - val_accuracy: 0.5169\n",
      "Epoch 8/30\n",
      "496/496 [==============================] - 11s 23ms/step - loss: 1.3065 - accuracy: 0.5151 - val_loss: 1.3167 - val_accuracy: 0.5169\n",
      "Epoch 9/30\n",
      "496/496 [==============================] - 11s 21ms/step - loss: 1.3028 - accuracy: 0.5152 - val_loss: 1.3179 - val_accuracy: 0.5164\n",
      "Epoch 10/30\n",
      "496/496 [==============================] - 11s 23ms/step - loss: 1.3039 - accuracy: 0.5153 - val_loss: 1.3166 - val_accuracy: 0.5169\n",
      "Epoch 11/30\n",
      "496/496 [==============================] - 11s 22ms/step - loss: 1.3033 - accuracy: 0.5152 - val_loss: 1.3211 - val_accuracy: 0.5169\n",
      "Epoch 12/30\n",
      "496/496 [==============================] - 11s 22ms/step - loss: 1.3033 - accuracy: 0.5152 - val_loss: 1.3227 - val_accuracy: 0.5169\n",
      "Epoch 13/30\n",
      "496/496 [==============================] - 11s 22ms/step - loss: 1.3034 - accuracy: 0.5152 - val_loss: 1.3194 - val_accuracy: 0.5169\n",
      "Epoch 14/30\n",
      "496/496 [==============================] - 11s 22ms/step - loss: 1.3036 - accuracy: 0.5152 - val_loss: 1.3189 - val_accuracy: 0.5169\n",
      "Epoch 15/30\n",
      "496/496 [==============================] - 11s 22ms/step - loss: 1.3031 - accuracy: 0.5152 - val_loss: 1.3187 - val_accuracy: 0.5169\n",
      "Epoch 16/30\n",
      "496/496 [==============================] - 11s 22ms/step - loss: 1.3034 - accuracy: 0.5152 - val_loss: 1.3182 - val_accuracy: 0.5169\n",
      "Epoch 17/30\n",
      "496/496 [==============================] - 11s 22ms/step - loss: 1.3025 - accuracy: 0.5152 - val_loss: 1.3173 - val_accuracy: 0.5169\n",
      "Epoch 18/30\n",
      "496/496 [==============================] - 11s 22ms/step - loss: 1.3034 - accuracy: 0.5152 - val_loss: 1.3184 - val_accuracy: 0.5169\n",
      "Epoch 19/30\n",
      "496/496 [==============================] - 11s 22ms/step - loss: 1.3030 - accuracy: 0.5152 - val_loss: 1.3190 - val_accuracy: 0.5169\n",
      "Epoch 20/30\n",
      "496/496 [==============================] - 11s 22ms/step - loss: 1.3021 - accuracy: 0.5152 - val_loss: 1.3177 - val_accuracy: 0.5169\n",
      "Epoch 21/30\n",
      "496/496 [==============================] - 11s 22ms/step - loss: 1.3033 - accuracy: 0.5152 - val_loss: 1.3205 - val_accuracy: 0.5169\n",
      "Epoch 22/30\n",
      "496/496 [==============================] - 11s 22ms/step - loss: 1.3033 - accuracy: 0.5152 - val_loss: 1.3179 - val_accuracy: 0.5169\n",
      "Epoch 23/30\n",
      "496/496 [==============================] - 11s 22ms/step - loss: 1.3015 - accuracy: 0.5152 - val_loss: 1.3187 - val_accuracy: 0.5169\n",
      "Epoch 24/30\n",
      "496/496 [==============================] - 11s 22ms/step - loss: 1.3023 - accuracy: 0.5152 - val_loss: 1.3200 - val_accuracy: 0.5169\n",
      "Epoch 25/30\n",
      "496/496 [==============================] - 11s 22ms/step - loss: 1.3016 - accuracy: 0.5152 - val_loss: 1.3195 - val_accuracy: 0.5169\n",
      "Epoch 26/30\n",
      "496/496 [==============================] - 11s 22ms/step - loss: 1.3035 - accuracy: 0.5152 - val_loss: 1.3182 - val_accuracy: 0.5169\n",
      "Epoch 27/30\n",
      "496/496 [==============================] - 11s 22ms/step - loss: 1.3042 - accuracy: 0.5152 - val_loss: 1.3211 - val_accuracy: 0.5169\n",
      "Epoch 28/30\n",
      "496/496 [==============================] - 10s 21ms/step - loss: 1.3042 - accuracy: 0.5152 - val_loss: 1.3190 - val_accuracy: 0.5169\n",
      "Epoch 29/30\n",
      "496/496 [==============================] - 10s 20ms/step - loss: 1.3033 - accuracy: 0.5152 - val_loss: 1.3167 - val_accuracy: 0.5169\n",
      "Epoch 30/30\n",
      "496/496 [==============================] - 10s 20ms/step - loss: 1.3031 - accuracy: 0.5152 - val_loss: 1.3195 - val_accuracy: 0.5169\n",
      "Epoch 1/30\n",
      "496/496 [==============================] - 11s 22ms/step - loss: 1.3023 - accuracy: 0.5152 - val_loss: 1.3186 - val_accuracy: 0.5169\n",
      "Epoch 2/30\n",
      "496/496 [==============================] - 10s 20ms/step - loss: 1.3036 - accuracy: 0.5153 - val_loss: 1.3172 - val_accuracy: 0.5169\n",
      "Epoch 3/30\n",
      "496/496 [==============================] - 10s 20ms/step - loss: 1.3009 - accuracy: 0.5152 - val_loss: 1.3205 - val_accuracy: 0.5169\n",
      "Epoch 4/30\n",
      "496/496 [==============================] - 10s 20ms/step - loss: 1.3022 - accuracy: 0.5152 - val_loss: 1.3180 - val_accuracy: 0.5169\n",
      "Epoch 5/30\n",
      "496/496 [==============================] - 10s 20ms/step - loss: 1.3024 - accuracy: 0.5152 - val_loss: 1.3213 - val_accuracy: 0.5169\n",
      "Epoch 6/30\n",
      "496/496 [==============================] - 10s 20ms/step - loss: 1.3031 - accuracy: 0.5152 - val_loss: 1.3188 - val_accuracy: 0.5169\n",
      "Epoch 7/30\n",
      "496/496 [==============================] - 10s 20ms/step - loss: 1.3012 - accuracy: 0.5152 - val_loss: 1.3202 - val_accuracy: 0.5169\n",
      "Epoch 8/30\n",
      "496/496 [==============================] - 10s 20ms/step - loss: 1.3023 - accuracy: 0.5152 - val_loss: 1.3193 - val_accuracy: 0.5169\n",
      "Epoch 9/30\n",
      "496/496 [==============================] - 10s 20ms/step - loss: 1.3024 - accuracy: 0.5153 - val_loss: 1.3213 - val_accuracy: 0.5169\n",
      "Epoch 10/30\n",
      "496/496 [==============================] - 10s 20ms/step - loss: 1.3023 - accuracy: 0.5151 - val_loss: 1.3195 - val_accuracy: 0.5164\n",
      "Epoch 11/30\n",
      "496/496 [==============================] - 10s 20ms/step - loss: 1.3015 - accuracy: 0.5158 - val_loss: 1.3190 - val_accuracy: 0.5169\n",
      "Epoch 12/30\n",
      "496/496 [==============================] - 10s 20ms/step - loss: 1.2977 - accuracy: 0.5163 - val_loss: 1.3207 - val_accuracy: 0.5154\n",
      "Epoch 13/30\n",
      "496/496 [==============================] - 10s 20ms/step - loss: 1.2979 - accuracy: 0.5166 - val_loss: 1.3212 - val_accuracy: 0.5154\n",
      "Epoch 14/30\n",
      "496/496 [==============================] - 11s 21ms/step - loss: 1.2962 - accuracy: 0.5176 - val_loss: 1.3221 - val_accuracy: 0.5164\n",
      "Epoch 15/30\n",
      "496/496 [==============================] - 10s 21ms/step - loss: 1.2948 - accuracy: 0.5181 - val_loss: 1.3348 - val_accuracy: 0.5159\n",
      "Epoch 16/30\n",
      "496/496 [==============================] - 10s 20ms/step - loss: 1.2896 - accuracy: 0.5192 - val_loss: 1.3455 - val_accuracy: 0.5154\n",
      "Epoch 17/30\n",
      "496/496 [==============================] - 10s 20ms/step - loss: 1.2855 - accuracy: 0.5219 - val_loss: 1.3532 - val_accuracy: 0.5129\n",
      "Epoch 18/30\n",
      "496/496 [==============================] - 10s 20ms/step - loss: 1.2824 - accuracy: 0.5214 - val_loss: 1.3252 - val_accuracy: 0.5164\n",
      "Epoch 19/30\n",
      "496/496 [==============================] - 10s 20ms/step - loss: 1.2816 - accuracy: 0.5236 - val_loss: 1.3527 - val_accuracy: 0.5093\n",
      "Epoch 20/30\n",
      "496/496 [==============================] - 10s 20ms/step - loss: 1.2683 - accuracy: 0.5242 - val_loss: 1.3683 - val_accuracy: 0.5088\n",
      "Epoch 21/30\n",
      "496/496 [==============================] - 10s 20ms/step - loss: 1.2569 - accuracy: 0.5289 - val_loss: 1.4052 - val_accuracy: 0.5068\n",
      "Epoch 22/30\n",
      "496/496 [==============================] - 10s 20ms/step - loss: 1.2471 - accuracy: 0.5332 - val_loss: 1.4324 - val_accuracy: 0.5068\n",
      "Epoch 23/30\n",
      "496/496 [==============================] - 10s 20ms/step - loss: 1.2349 - accuracy: 0.5365 - val_loss: 1.4531 - val_accuracy: 0.5053\n",
      "Epoch 24/30\n",
      "496/496 [==============================] - 10s 20ms/step - loss: 1.2334 - accuracy: 0.5364 - val_loss: 1.4725 - val_accuracy: 0.5033\n",
      "Epoch 25/30\n",
      "496/496 [==============================] - 10s 20ms/step - loss: 1.2173 - accuracy: 0.5455 - val_loss: 1.4893 - val_accuracy: 0.5048\n",
      "Epoch 26/30\n",
      "496/496 [==============================] - 10s 20ms/step - loss: 1.2017 - accuracy: 0.5463 - val_loss: 1.5280 - val_accuracy: 0.5028\n",
      "Epoch 27/30\n"
     ]
    },
    {
     "name": "stdout",
     "output_type": "stream",
     "text": [
      "496/496 [==============================] - 10s 20ms/step - loss: 1.1886 - accuracy: 0.5557 - val_loss: 1.5853 - val_accuracy: 0.4987\n",
      "Epoch 28/30\n",
      "496/496 [==============================] - 10s 20ms/step - loss: 1.1803 - accuracy: 0.5580 - val_loss: 1.6102 - val_accuracy: 0.5008\n",
      "Epoch 29/30\n",
      "496/496 [==============================] - 10s 20ms/step - loss: 1.1614 - accuracy: 0.5639 - val_loss: 1.7706 - val_accuracy: 0.4962\n",
      "Epoch 30/30\n",
      "496/496 [==============================] - 10s 21ms/step - loss: 1.1440 - accuracy: 0.5697 - val_loss: 1.7099 - val_accuracy: 0.5008\n",
      "Epoch 1/30\n",
      "496/496 [==============================] - 10s 20ms/step - loss: 1.1319 - accuracy: 0.5731 - val_loss: 1.6562 - val_accuracy: 0.4977\n",
      "Epoch 2/30\n",
      "496/496 [==============================] - 10s 20ms/step - loss: 1.1159 - accuracy: 0.5815 - val_loss: 1.8191 - val_accuracy: 0.4977\n",
      "Epoch 3/30\n",
      "496/496 [==============================] - 10s 20ms/step - loss: 1.1099 - accuracy: 0.5847 - val_loss: 1.7202 - val_accuracy: 0.4997\n",
      "Epoch 4/30\n",
      "496/496 [==============================] - 10s 21ms/step - loss: 1.0867 - accuracy: 0.5894 - val_loss: 1.9549 - val_accuracy: 0.5018\n",
      "Epoch 5/30\n",
      "496/496 [==============================] - 11s 22ms/step - loss: 1.0712 - accuracy: 0.5992 - val_loss: 1.9704 - val_accuracy: 0.4967\n",
      "Epoch 6/30\n",
      "496/496 [==============================] - 9s 19ms/step - loss: 1.0526 - accuracy: 0.6035 - val_loss: 1.9649 - val_accuracy: 0.4997\n",
      "Epoch 7/30\n",
      "496/496 [==============================] - 9s 19ms/step - loss: 1.0291 - accuracy: 0.6117 - val_loss: 2.0667 - val_accuracy: 0.4917\n",
      "Epoch 8/30\n",
      "496/496 [==============================] - 9s 18ms/step - loss: 1.0260 - accuracy: 0.6153 - val_loss: 2.2743 - val_accuracy: 0.4942\n",
      "Epoch 9/30\n",
      "496/496 [==============================] - 10s 19ms/step - loss: 0.9998 - accuracy: 0.6249 - val_loss: 2.4385 - val_accuracy: 0.4816\n",
      "Epoch 10/30\n",
      "496/496 [==============================] - 10s 19ms/step - loss: 0.9880 - accuracy: 0.6325 - val_loss: 2.3270 - val_accuracy: 0.4907\n",
      "Epoch 11/30\n",
      "496/496 [==============================] - 9s 18ms/step - loss: 0.9668 - accuracy: 0.6387 - val_loss: 2.3720 - val_accuracy: 0.4831\n",
      "Epoch 12/30\n",
      "496/496 [==============================] - 9s 18ms/step - loss: 0.9565 - accuracy: 0.6470 - val_loss: 2.5407 - val_accuracy: 0.4841\n",
      "Epoch 13/30\n",
      "496/496 [==============================] - 9s 18ms/step - loss: 0.9398 - accuracy: 0.6476 - val_loss: 2.4936 - val_accuracy: 0.4881\n",
      "Epoch 14/30\n",
      "496/496 [==============================] - 9s 18ms/step - loss: 0.9089 - accuracy: 0.6626 - val_loss: 2.7788 - val_accuracy: 0.4735\n",
      "Epoch 15/30\n",
      "496/496 [==============================] - 9s 18ms/step - loss: 0.8947 - accuracy: 0.6650 - val_loss: 2.7063 - val_accuracy: 0.4806\n",
      "Epoch 16/30\n",
      "496/496 [==============================] - 9s 18ms/step - loss: 0.8699 - accuracy: 0.6712 - val_loss: 2.9540 - val_accuracy: 0.4750\n",
      "Epoch 17/30\n",
      "496/496 [==============================] - 10s 19ms/step - loss: 0.8581 - accuracy: 0.6797 - val_loss: 2.8312 - val_accuracy: 0.4655\n",
      "Epoch 18/30\n",
      "496/496 [==============================] - 10s 21ms/step - loss: 0.8422 - accuracy: 0.6833 - val_loss: 3.1894 - val_accuracy: 0.4675\n",
      "Epoch 19/30\n",
      "496/496 [==============================] - 11s 21ms/step - loss: 0.8292 - accuracy: 0.6925 - val_loss: 3.1858 - val_accuracy: 0.4644\n",
      "Epoch 20/30\n",
      "496/496 [==============================] - 11s 23ms/step - loss: 0.8268 - accuracy: 0.6930 - val_loss: 2.9061 - val_accuracy: 0.4715\n",
      "Epoch 21/30\n",
      "496/496 [==============================] - 10s 21ms/step - loss: 0.8124 - accuracy: 0.6983 - val_loss: 3.1363 - val_accuracy: 0.4690\n",
      "Epoch 22/30\n",
      "496/496 [==============================] - 11s 23ms/step - loss: 0.7823 - accuracy: 0.7053 - val_loss: 3.1885 - val_accuracy: 0.4650\n",
      "Epoch 23/30\n",
      "496/496 [==============================] - 11s 22ms/step - loss: 0.7756 - accuracy: 0.7135 - val_loss: 3.1475 - val_accuracy: 0.4695\n",
      "Epoch 24/30\n",
      "496/496 [==============================] - 11s 21ms/step - loss: 0.7536 - accuracy: 0.7206 - val_loss: 3.3926 - val_accuracy: 0.4644\n",
      "Epoch 25/30\n",
      "496/496 [==============================] - 10s 21ms/step - loss: 0.7543 - accuracy: 0.7239 - val_loss: 3.3621 - val_accuracy: 0.4544\n",
      "Epoch 26/30\n",
      "496/496 [==============================] - 10s 21ms/step - loss: 0.7607 - accuracy: 0.7238 - val_loss: 3.1811 - val_accuracy: 0.4604\n",
      "Epoch 27/30\n",
      "496/496 [==============================] - 10s 20ms/step - loss: 0.7306 - accuracy: 0.7326 - val_loss: 3.4483 - val_accuracy: 0.4660\n",
      "Epoch 28/30\n",
      "496/496 [==============================] - 11s 23ms/step - loss: 0.6982 - accuracy: 0.7378 - val_loss: 3.9687 - val_accuracy: 0.4599\n",
      "Epoch 29/30\n",
      "496/496 [==============================] - 11s 22ms/step - loss: 0.6963 - accuracy: 0.7454 - val_loss: 3.4997 - val_accuracy: 0.4655\n",
      "Epoch 30/30\n",
      "496/496 [==============================] - 12s 23ms/step - loss: 0.6774 - accuracy: 0.7491 - val_loss: 3.8788 - val_accuracy: 0.4644\n"
     ]
    }
   ],
   "source": [
    "history = model.fit(X,train_pred,validation_data = (Y,test_pred),shuffle=True,batch_size=16, epochs = 30,callbacks=callbacks)\n",
    "newX = augmentAfterEpoch()\n",
    "history2 = model.fit(X,train_pred,validation_data = (Y,test_pred),shuffle=True,batch_size=16, epochs = 30,callbacks=callbacks)\n",
    "newX = augmentAfterEpoch()\n",
    "history3 = model.fit(X,train_pred,validation_data = (Y,test_pred),shuffle=True,batch_size=16, epochs = 30,callbacks=callbacks)\n",
    "\n",
    "#fit(\n",
    "#    x=None, y=None, batch_size=None, epochs=1, verbose='auto',\n",
    "#    callbacks=None, validation_split=0.0, validation_data=None, shuffle=True,\n",
    "#    class_weight=None, sample_weight=None, initial_epoch=0, steps_per_epoch=None,\n",
    "#    validation_steps=None, validation_batch_size=None, validation_freq=1,\n",
    "#    max_queue_size=10, workers=1, use_multiprocessing=False\n",
    "#)\n"
   ]
  },
  {
   "cell_type": "code",
   "execution_count": null,
   "id": "35891fd4",
   "metadata": {},
   "outputs": [],
   "source": [
    "from keras.preprocessing import image as keras_image\n",
    "\n",
    "test_image = keras_image.load_img('train/00a1ae8867e0bb89f061679e1cf29e80.jpg', target_size = (image_size, image_size))\n",
    "print(test_image)\n",
    "plt.imshow(test_image)\n"
   ]
  },
  {
   "cell_type": "code",
   "execution_count": null,
   "id": "6f4c2c38",
   "metadata": {},
   "outputs": [],
   "source": [
    "print(\"Mean value of train \"+ str(train_pred.mean()))\n",
    "print(\"Mean value of train \"+ str(test_pred.mean()))\n"
   ]
  },
  {
   "cell_type": "code",
   "execution_count": null,
   "id": "32126ec6",
   "metadata": {},
   "outputs": [],
   "source": [
    "display(train.head())"
   ]
  },
  {
   "cell_type": "code",
   "execution_count": 32,
   "id": "e220bb69",
   "metadata": {},
   "outputs": [
    {
     "name": "stdout",
     "output_type": "stream",
     "text": [
      "[0.1812706  0.49880078 0.1896179  0.07615223 0.05415849]\n"
     ]
    }
   ],
   "source": [
    "print(result[10])"
   ]
  },
  {
   "cell_type": "code",
   "execution_count": 34,
   "id": "2fc6a618",
   "metadata": {},
   "outputs": [
    {
     "ename": "InternalError",
     "evalue": "Failed copying input tensor from /job:localhost/replica:0/task:0/device:CPU:0 to /job:localhost/replica:0/task:0/device:GPU:0 in order to run _EagerConst: Dst tensor is not initialized.",
     "output_type": "error",
     "traceback": [
      "\u001b[1;31m---------------------------------------------------------------------------\u001b[0m",
      "\u001b[1;31mInternalError\u001b[0m                             Traceback (most recent call last)",
      "\u001b[1;32m~\\AppData\\Local\\Temp/ipykernel_16592/4122038155.py\u001b[0m in \u001b[0;36m<module>\u001b[1;34m\u001b[0m\n\u001b[0;32m      1\u001b[0m \u001b[1;31m#test_image = keras_image.img_to_array(test_image)\u001b[0m\u001b[1;33m\u001b[0m\u001b[1;33m\u001b[0m\u001b[0m\n\u001b[0;32m      2\u001b[0m \u001b[1;31m#test_image = np.expand_dims(test_image, axis = 0)\u001b[0m\u001b[1;33m\u001b[0m\u001b[1;33m\u001b[0m\u001b[0m\n\u001b[1;32m----> 3\u001b[1;33m \u001b[0mresult\u001b[0m \u001b[1;33m=\u001b[0m \u001b[0mmodel\u001b[0m\u001b[1;33m.\u001b[0m\u001b[0mpredict\u001b[0m\u001b[1;33m(\u001b[0m\u001b[0mY\u001b[0m\u001b[1;33m)\u001b[0m\u001b[1;33m\u001b[0m\u001b[1;33m\u001b[0m\u001b[0m\n\u001b[0m\u001b[0;32m      4\u001b[0m \u001b[0mfinal\u001b[0m\u001b[1;33m=\u001b[0m\u001b[0mpd\u001b[0m\u001b[1;33m.\u001b[0m\u001b[0mDataFrame\u001b[0m\u001b[1;33m(\u001b[0m\u001b[1;33m)\u001b[0m\u001b[1;33m\u001b[0m\u001b[1;33m\u001b[0m\u001b[0m\n\u001b[0;32m      5\u001b[0m \u001b[0mfinal\u001b[0m\u001b[1;33m[\u001b[0m\u001b[1;34m'Id'\u001b[0m\u001b[1;33m]\u001b[0m\u001b[1;33m=\u001b[0m\u001b[0mtest\u001b[0m\u001b[1;33m[\u001b[0m\u001b[1;34m'Id'\u001b[0m\u001b[1;33m]\u001b[0m\u001b[1;33m\u001b[0m\u001b[1;33m\u001b[0m\u001b[0m\n",
      "\u001b[1;32m~\\Anaconda3\\envs\\machine\\lib\\site-packages\\keras\\utils\\traceback_utils.py\u001b[0m in \u001b[0;36merror_handler\u001b[1;34m(*args, **kwargs)\u001b[0m\n\u001b[0;32m     65\u001b[0m     \u001b[1;32mexcept\u001b[0m \u001b[0mException\u001b[0m \u001b[1;32mas\u001b[0m \u001b[0me\u001b[0m\u001b[1;33m:\u001b[0m  \u001b[1;31m# pylint: disable=broad-except\u001b[0m\u001b[1;33m\u001b[0m\u001b[1;33m\u001b[0m\u001b[0m\n\u001b[0;32m     66\u001b[0m       \u001b[0mfiltered_tb\u001b[0m \u001b[1;33m=\u001b[0m \u001b[0m_process_traceback_frames\u001b[0m\u001b[1;33m(\u001b[0m\u001b[0me\u001b[0m\u001b[1;33m.\u001b[0m\u001b[0m__traceback__\u001b[0m\u001b[1;33m)\u001b[0m\u001b[1;33m\u001b[0m\u001b[1;33m\u001b[0m\u001b[0m\n\u001b[1;32m---> 67\u001b[1;33m       \u001b[1;32mraise\u001b[0m \u001b[0me\u001b[0m\u001b[1;33m.\u001b[0m\u001b[0mwith_traceback\u001b[0m\u001b[1;33m(\u001b[0m\u001b[0mfiltered_tb\u001b[0m\u001b[1;33m)\u001b[0m \u001b[1;32mfrom\u001b[0m \u001b[1;32mNone\u001b[0m\u001b[1;33m\u001b[0m\u001b[1;33m\u001b[0m\u001b[0m\n\u001b[0m\u001b[0;32m     68\u001b[0m     \u001b[1;32mfinally\u001b[0m\u001b[1;33m:\u001b[0m\u001b[1;33m\u001b[0m\u001b[1;33m\u001b[0m\u001b[0m\n\u001b[0;32m     69\u001b[0m       \u001b[1;32mdel\u001b[0m \u001b[0mfiltered_tb\u001b[0m\u001b[1;33m\u001b[0m\u001b[1;33m\u001b[0m\u001b[0m\n",
      "\u001b[1;32m~\\Anaconda3\\envs\\machine\\lib\\site-packages\\tensorflow\\python\\framework\\constant_op.py\u001b[0m in \u001b[0;36mconvert_to_eager_tensor\u001b[1;34m(value, ctx, dtype)\u001b[0m\n\u001b[0;32m    104\u001b[0m       \u001b[0mdtype\u001b[0m \u001b[1;33m=\u001b[0m \u001b[0mdtypes\u001b[0m\u001b[1;33m.\u001b[0m\u001b[0mas_dtype\u001b[0m\u001b[1;33m(\u001b[0m\u001b[0mdtype\u001b[0m\u001b[1;33m)\u001b[0m\u001b[1;33m.\u001b[0m\u001b[0mas_datatype_enum\u001b[0m\u001b[1;33m\u001b[0m\u001b[1;33m\u001b[0m\u001b[0m\n\u001b[0;32m    105\u001b[0m   \u001b[0mctx\u001b[0m\u001b[1;33m.\u001b[0m\u001b[0mensure_initialized\u001b[0m\u001b[1;33m(\u001b[0m\u001b[1;33m)\u001b[0m\u001b[1;33m\u001b[0m\u001b[1;33m\u001b[0m\u001b[0m\n\u001b[1;32m--> 106\u001b[1;33m   \u001b[1;32mreturn\u001b[0m \u001b[0mops\u001b[0m\u001b[1;33m.\u001b[0m\u001b[0mEagerTensor\u001b[0m\u001b[1;33m(\u001b[0m\u001b[0mvalue\u001b[0m\u001b[1;33m,\u001b[0m \u001b[0mctx\u001b[0m\u001b[1;33m.\u001b[0m\u001b[0mdevice_name\u001b[0m\u001b[1;33m,\u001b[0m \u001b[0mdtype\u001b[0m\u001b[1;33m)\u001b[0m\u001b[1;33m\u001b[0m\u001b[1;33m\u001b[0m\u001b[0m\n\u001b[0m\u001b[0;32m    107\u001b[0m \u001b[1;33m\u001b[0m\u001b[0m\n\u001b[0;32m    108\u001b[0m \u001b[1;33m\u001b[0m\u001b[0m\n",
      "\u001b[1;31mInternalError\u001b[0m: Failed copying input tensor from /job:localhost/replica:0/task:0/device:CPU:0 to /job:localhost/replica:0/task:0/device:GPU:0 in order to run _EagerConst: Dst tensor is not initialized."
     ]
    }
   ],
   "source": [
    "#test_image = keras_image.img_to_array(test_image)\n",
    "#test_image = np.expand_dims(test_image, axis = 0)\n",
    "result = model.predict(Y)\n",
    "final=pd.DataFrame()\n",
    "final['Id']=test['Id']\n",
    "final['Subject Focus']=test['Subject Focus']\n",
    "final['Eyes']=test['Eyes']\n",
    "final['Face']=test['Face']\n",
    "final['Near']=test['Near']\n",
    "final['Action']=test['Action']\n",
    "final['Accessory']=test['Accessory']\n",
    "final['Group']=test['Group']\n",
    "final['Collage']=test['Collage']\n",
    "final['Human']=test['Human']\n",
    "final['Occlusion']=test['Occlusion']\n",
    "final['Info']=test['Info']\n",
    "final['Blur']=test['Blur']\n",
    "final['Pawpularity']=test['Pawpularity']\n",
    "print(final)\n"
   ]
  },
  {
   "cell_type": "code",
   "execution_count": null,
   "id": "3021a026",
   "metadata": {},
   "outputs": [],
   "source": [
    "display(final.head())"
   ]
  },
  {
   "cell_type": "code",
   "execution_count": null,
   "id": "8a4590dd",
   "metadata": {},
   "outputs": [],
   "source": [
    "a = len(final['Pawpularity'])\n",
    "b = final['Pawpularity']\n",
    "rmse = train_pred.mean()\n",
    "temp = []\n",
    "temp2 = []\n",
    "\n",
    "for number in range(a):\n",
    "    temp.append(rmse)\n",
    "for i in range(a):\n",
    "    temp2.append(test_pred[i])\n"
   ]
  },
  {
   "cell_type": "code",
   "execution_count": null,
   "id": "84b30106",
   "metadata": {},
   "outputs": [],
   "source": [
    "import math\n",
    "MSE = np.square(np.subtract(temp2,temp)).mean() \n"
   ]
  },
  {
   "cell_type": "code",
   "execution_count": null,
   "id": "6db473bd",
   "metadata": {},
   "outputs": [],
   "source": [
    "value = math.sqrt(MSE)\n",
    "print(value)"
   ]
  },
  {
   "cell_type": "code",
   "execution_count": null,
   "id": "f3bd3c2b",
   "metadata": {},
   "outputs": [],
   "source": [
    "# list all data in history1\n",
    "print(history.history.keys())\n",
    "# summarize history for accuracy\n",
    "plt.plot(history.history['root_mean_squared_error'])\n",
    "plt.plot(history.history['val_root_mean_squared_error'])\n",
    "plt.title('model mse')\n",
    "plt.ylabel('mse')\n",
    "plt.xlabel('epoch')\n",
    "plt.legend(['train', 'test'], loc='upper left')\n",
    "plt.show()\n",
    "# summarize history for loss\n",
    "plt.plot(history.history['loss'])\n",
    "plt.plot(history.history['val_loss'])\n",
    "plt.title('model loss')\n",
    "plt.ylabel('loss')\n",
    "plt.xlabel('epoch')\n",
    "plt.legend(['train', 'test'], loc='upper left')\n",
    "plt.show()"
   ]
  },
  {
   "cell_type": "code",
   "execution_count": null,
   "id": "869ac496",
   "metadata": {},
   "outputs": [],
   "source": [
    "# list all data in history2\n",
    "print(history.history.keys())\n",
    "# summarize history for accuracy\n",
    "plt.plot(history2.history['root_mean_squared_error'])\n",
    "plt.plot(history2.history['val_root_mean_squared_error'])\n",
    "plt.title('model rmse')\n",
    "plt.ylabel('rmse')\n",
    "plt.xlabel('epoch')\n",
    "plt.legend(['train', 'test'], loc='upper left')\n",
    "plt.show()\n",
    "# summarize history for loss\n",
    "plt.plot(history2.history['loss'])\n",
    "plt.plot(history2.history['val_loss'])\n",
    "plt.title('model loss')\n",
    "plt.ylabel('loss')\n",
    "plt.xlabel('epoch')\n",
    "plt.legend(['train', 'test'], loc='upper left')\n",
    "plt.show()"
   ]
  },
  {
   "cell_type": "code",
   "execution_count": null,
   "id": "42a79853",
   "metadata": {},
   "outputs": [],
   "source": [
    "# list all data in history3\n",
    "print(history.history.keys())\n",
    "# summarize history for accuracy\n",
    "plt.plot(history3.history['root_mean_squared_error'])\n",
    "plt.plot(history3.history['val_root_mean_squared_error'])\n",
    "plt.title('model rmse')\n",
    "plt.ylabel('rmse')\n",
    "plt.xlabel('epoch')\n",
    "plt.legend(['train', 'test'], loc='upper left')\n",
    "plt.show()\n",
    "# summarize history for loss\n",
    "plt.plot(history3.history['loss'])\n",
    "plt.plot(history3.history['val_loss'])\n",
    "plt.title('model loss')\n",
    "plt.ylabel('loss')\n",
    "plt.xlabel('epoch')\n",
    "plt.legend(['train', 'test'], loc='upper left')\n",
    "plt.show()"
   ]
  },
  {
   "cell_type": "code",
   "execution_count": null,
   "id": "3733b983",
   "metadata": {},
   "outputs": [],
   "source": []
  }
 ],
 "metadata": {
  "kernelspec": {
   "display_name": "Python 3 (ipykernel)",
   "language": "python",
   "name": "python3"
  },
  "language_info": {
   "codemirror_mode": {
    "name": "ipython",
    "version": 3
   },
   "file_extension": ".py",
   "mimetype": "text/x-python",
   "name": "python",
   "nbconvert_exporter": "python",
   "pygments_lexer": "ipython3",
   "version": "3.9.7"
  }
 },
 "nbformat": 4,
 "nbformat_minor": 5
}
